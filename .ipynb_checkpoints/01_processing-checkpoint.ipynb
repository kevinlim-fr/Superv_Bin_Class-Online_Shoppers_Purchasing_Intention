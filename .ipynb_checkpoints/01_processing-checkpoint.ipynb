{
 "cells": [
  {
   "cell_type": "markdown",
   "id": "021d2207-2b44-4691-b064-af8f349afb2e",
   "metadata": {},
   "source": [
    "# <b> Notebook 1 : Data Import & Processing\n",
    "This notebooks is used to import the data and process it"
   ]
  },
  {
   "cell_type": "code",
   "execution_count": 20,
   "id": "5d0a4cf0-418f-4e78-87bc-1359bd009cd2",
   "metadata": {
    "tags": []
   },
   "outputs": [],
   "source": [
    "%run ../klicp/klicp_00_import_and_functions.ipynb\n",
    "%run ../klicp/klicp_01_data_import_tools.ipynb"
   ]
  },
  {
   "cell_type": "code",
   "execution_count": 21,
   "id": "ff023d3c-64d8-41a3-92b2-f9d4d6c50e01",
   "metadata": {
    "tags": []
   },
   "outputs": [],
   "source": [
    "%run ../code_patrimony/00_fonctions_preparation.ipynb"
   ]
  },
  {
   "cell_type": "code",
   "execution_count": 22,
   "id": "14bc3491-ba6e-4f2d-aee8-902b62750692",
   "metadata": {
    "tags": []
   },
   "outputs": [],
   "source": [
    "# Importing the dataset (Link - https://archive.ics.uci.edu/ml/datasets/Online+Shoppers+Purchasing+Intention+Dataset)\n",
    "data = pd.read_csv(\"online_shoppers_intention.csv\", header = 0)"
   ]
  },
  {
   "cell_type": "markdown",
   "id": "7b9b4994-fde2-4080-b507-4bf2a5eed696",
   "metadata": {},
   "source": [
    "## <b> STEP 1 : Data Cleaning (if necessary)"
   ]
  },
  {
   "cell_type": "markdown",
   "id": "0da93244-8ace-477d-8473-1bb14fd9d077",
   "metadata": {},
   "source": [
    "#### We can have a quick look at the data type in each column of our dataset to make sure if there are any missing values. "
   ]
  },
  {
   "cell_type": "code",
   "execution_count": 23,
   "id": "e197a4d1-d065-45eb-b23d-9be52ad22ac6",
   "metadata": {
    "tags": []
   },
   "outputs": [
    {
     "data": {
      "text/plain": [
       "Administrative               int64\n",
       "Administrative_Duration    float64\n",
       "Informational                int64\n",
       "Informational_Duration     float64\n",
       "ProductRelated               int64\n",
       "ProductRelated_Duration    float64\n",
       "BounceRates                float64\n",
       "ExitRates                  float64\n",
       "PageValues                 float64\n",
       "SpecialDay                 float64\n",
       "Month                       object\n",
       "OperatingSystems             int64\n",
       "Browser                      int64\n",
       "Region                       int64\n",
       "TrafficType                  int64\n",
       "VisitorType                 object\n",
       "Weekend                       bool\n",
       "Revenue                       bool\n",
       "dtype: object"
      ]
     },
     "execution_count": 23,
     "metadata": {},
     "output_type": "execute_result"
    }
   ],
   "source": [
    "data.dtypes"
   ]
  },
  {
   "cell_type": "markdown",
   "id": "01a28672-e27e-4130-b9a3-b1c3b6c9fd57",
   "metadata": {},
   "source": [
    "#### Month and VisitorType are object type, we can quickly check if there is any missing values by counting the values."
   ]
  },
  {
   "cell_type": "code",
   "execution_count": 24,
   "id": "fa51900b-62e4-4f7c-b5c8-46a3cde31228",
   "metadata": {
    "tags": []
   },
   "outputs": [
    {
     "data": {
      "text/plain": [
       "May     3364\n",
       "Nov     2998\n",
       "Mar     1907\n",
       "Dec     1727\n",
       "Oct      549\n",
       "Sep      448\n",
       "Aug      433\n",
       "Jul      432\n",
       "June     288\n",
       "Feb      184\n",
       "Name: Month, dtype: int64"
      ]
     },
     "execution_count": 24,
     "metadata": {},
     "output_type": "execute_result"
    }
   ],
   "source": [
    "data['Month'].value_counts()"
   ]
  },
  {
   "cell_type": "code",
   "execution_count": 25,
   "id": "b029c063-7dd8-443e-abc8-18ce7526ce6a",
   "metadata": {
    "tags": []
   },
   "outputs": [
    {
     "data": {
      "text/plain": [
       "Returning_Visitor    10551\n",
       "New_Visitor           1694\n",
       "Other                   85\n",
       "Name: VisitorType, dtype: int64"
      ]
     },
     "execution_count": 25,
     "metadata": {},
     "output_type": "execute_result"
    }
   ],
   "source": [
    "data['VisitorType'].value_counts()"
   ]
  },
  {
   "cell_type": "markdown",
   "id": "e30baefd-c01b-4973-9d21-ca7ee95ac67e",
   "metadata": {},
   "source": [
    "## <b> STEP 2 : Data preprocessing"
   ]
  },
  {
   "cell_type": "markdown",
   "id": "40bcb6b9-606d-4370-8161-e0a6b7bc0a28",
   "metadata": {},
   "source": [
    "#### As we have categorical features in our dataset, we need to encode them before so we can use them in our analysis later. "
   ]
  },
  {
   "cell_type": "code",
   "execution_count": 26,
   "id": "2dad3c0d-ec30-41e9-ba73-ad559cc3d36d",
   "metadata": {
    "tags": []
   },
   "outputs": [
    {
     "data": {
      "text/plain": [
       "0        False\n",
       "1        False\n",
       "2        False\n",
       "3        False\n",
       "4        False\n",
       "         ...  \n",
       "12325    False\n",
       "12326    False\n",
       "12327    False\n",
       "12328    False\n",
       "12329    False\n",
       "Name: Revenue, Length: 12330, dtype: bool"
      ]
     },
     "execution_count": 26,
     "metadata": {},
     "output_type": "execute_result"
    }
   ],
   "source": [
    "data['Revenue']"
   ]
  },
  {
   "cell_type": "code",
   "execution_count": 27,
   "id": "cc7c64f6-d446-4afd-9ffb-7bca9b18db80",
   "metadata": {
    "tags": []
   },
   "outputs": [],
   "source": [
    "# Downsampled Dataset\n",
    "data = resample(data, 'Revenue', data['Revenue'].unique())\n",
    "\n",
    "categorical_col = ['Month','OperatingSystems','Browser','VisitorType','Weekend']\n",
    "encoder, data = custom_label_encoder(data, OneHotEncoder(), categorical_col, 'create')\n",
    "\n",
    "numerical_col = ['Administrative', 'Administrative_Duration', 'Informational', 'Informational_Duration', 'ProductRelated', 'ProductRelated_Duration', 'BounceRates', 'ExitRates', 'PageValues', 'SpecialDay', 'Region', 'TrafficType']\n",
    "scaler, data = custom_scaler_encoder(data, PowerTransformer(), numerical_col, 'create')\n",
    "\n",
    "data, X_train, X_test, y_train, y_test = ml_build(data, 'Revenue', ['Revenue'], test_size=0.25)"
   ]
  },
  {
   "cell_type": "code",
   "execution_count": 29,
   "id": "37a96605-548e-494e-823a-caf58f9f7c4f",
   "metadata": {
    "tags": []
   },
   "outputs": [],
   "source": [
    "with open('artifacts/X_train.pickle', 'wb') as file:\n",
    "    pickle.dump(X_train, file)\n",
    "with open('artifacts/X_test.pickle', 'wb') as file:\n",
    "    pickle.dump(X_test, file)\n",
    "with open('artifacts/data.pickle', 'wb') as file:\n",
    "    pickle.dump(data, file)"
   ]
  },
  {
   "cell_type": "code",
   "execution_count": 30,
   "id": "336a8655-1c79-40e7-92c4-15de7448b1ff",
   "metadata": {
    "tags": []
   },
   "outputs": [],
   "source": [
    "with open('artifacts/encoder.pickle', 'wb') as file:\n",
    "    pickle.dump(encoder, file)"
   ]
  },
  {
   "cell_type": "code",
   "execution_count": 31,
   "id": "7340946b-202f-4658-9d4e-0b965cdc8328",
   "metadata": {
    "tags": []
   },
   "outputs": [],
   "source": [
    "with open('artifacts/scaler.pickle', 'wb') as file:\n",
    "    pickle.dump(scaler, file)"
   ]
  }
 ],
 "metadata": {
  "environment": {
   "kernel": "python3",
   "name": "common-cpu.m108",
   "type": "gcloud",
   "uri": "gcr.io/deeplearning-platform-release/base-cpu:m108"
  },
  "kernelspec": {
   "display_name": "Python 3 (ipykernel)",
   "language": "python",
   "name": "python3"
  },
  "language_info": {
   "codemirror_mode": {
    "name": "ipython",
    "version": 3
   },
   "file_extension": ".py",
   "mimetype": "text/x-python",
   "name": "python",
   "nbconvert_exporter": "python",
   "pygments_lexer": "ipython3",
   "version": "3.9.16"
  }
 },
 "nbformat": 4,
 "nbformat_minor": 5
}
