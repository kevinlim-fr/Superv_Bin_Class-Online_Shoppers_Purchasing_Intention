{
 "cells": [
  {
   "cell_type": "markdown",
   "id": "b53f27eb-25c7-418c-b96f-d483235219f9",
   "metadata": {},
   "source": [
    "# <b> Notebook 4 : Feature Explaination & Engineering"
   ]
  },
  {
   "cell_type": "code",
   "execution_count": 5,
   "id": "bf713996-373c-41d1-b3d7-c6da48daac04",
   "metadata": {
    "tags": []
   },
   "outputs": [],
   "source": [
    "# Import packages, functions\n",
    "%run ../klicp/klicp_00_import_and_functions.ipynb\n",
    "%run ../klicp/klicp_01_data_import_tools.ipynb\n",
    "%run ../klicp/klicp_04_algo_exploration_tools.ipynb\n",
    "\n",
    "# Import dataframes\n",
    "%run 01_processing.ipynb"
   ]
  },
  {
   "cell_type": "markdown",
   "id": "87c58991-81c0-4dd8-9423-978a1585caca",
   "metadata": {},
   "source": [
    "## <b> List of features"
   ]
  },
  {
   "cell_type": "code",
   "execution_count": 6,
   "id": "ffd17baf-5980-40dd-92cd-8401204efba5",
   "metadata": {
    "tags": []
   },
   "outputs": [
    {
     "data": {
      "text/plain": [
       "Administrative               int64\n",
       "Administrative_Duration    float64\n",
       "Informational                int64\n",
       "Informational_Duration     float64\n",
       "ProductRelated               int64\n",
       "ProductRelated_Duration    float64\n",
       "BounceRates                float64\n",
       "ExitRates                  float64\n",
       "PageValues                 float64\n",
       "SpecialDay                 float64\n",
       "Month                       object\n",
       "OperatingSystems             int64\n",
       "Browser                      int64\n",
       "Region                       int64\n",
       "TrafficType                  int64\n",
       "VisitorType                 object\n",
       "Weekend                       bool\n",
       "Revenue                       bool\n",
       "dtype: object"
      ]
     },
     "execution_count": 6,
     "metadata": {},
     "output_type": "execute_result"
    }
   ],
   "source": [
    "data.dtypes"
   ]
  },
  {
   "cell_type": "markdown",
   "id": "2e8ee3e4-7bb6-41b6-b91a-9449b30846ad",
   "metadata": {},
   "source": [
    "## <b> Sample Model & Feature Explaination"
   ]
  },
  {
   "cell_type": "code",
   "execution_count": 7,
   "id": "1cc15802-21ed-4ddc-990b-b26e6b7a90c0",
   "metadata": {
    "tags": []
   },
   "outputs": [
    {
     "data": {
      "text/plain": [
       "0.9183206106870229"
      ]
     },
     "execution_count": 7,
     "metadata": {},
     "output_type": "execute_result"
    }
   ],
   "source": [
    "model = XGBClassifier()\n",
    "model.fit(X_train,y_train)\n",
    "y_pred = model.predict(X_test)\n",
    "f1_score(y_test,y_pred)"
   ]
  },
  {
   "cell_type": "code",
   "execution_count": 18,
   "id": "5ec1d0b1-2fef-4c99-9cce-2ee376e4cd07",
   "metadata": {
    "tags": []
   },
   "outputs": [
    {
     "data": {
      "text/plain": [
       "0.6712729205421207"
      ]
     },
     "execution_count": 18,
     "metadata": {},
     "output_type": "execute_result"
    }
   ],
   "source": []
  }
 ],
 "metadata": {
  "kernelspec": {
   "display_name": "Python 3 (ipykernel)",
   "language": "python",
   "name": "python3"
  },
  "language_info": {
   "codemirror_mode": {
    "name": "ipython",
    "version": 3
   },
   "file_extension": ".py",
   "mimetype": "text/x-python",
   "name": "python",
   "nbconvert_exporter": "python",
   "pygments_lexer": "ipython3",
   "version": "3.9.16"
  }
 },
 "nbformat": 4,
 "nbformat_minor": 5
}
