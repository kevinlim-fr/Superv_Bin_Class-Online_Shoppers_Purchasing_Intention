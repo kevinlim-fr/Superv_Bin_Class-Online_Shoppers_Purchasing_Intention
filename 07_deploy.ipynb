{
 "cells": [
  {
   "cell_type": "markdown",
   "id": "68ace070-af90-44c3-b181-41618d968ae8",
   "metadata": {},
   "source": [
    "# <b> Notebook 6 : Final model selection"
   ]
  },
  {
   "cell_type": "markdown",
   "id": "6873b4d0-ae2d-454c-b414-e6dd7815450e",
   "metadata": {},
   "source": [
    "### Exporting files for the API"
   ]
  },
  {
   "cell_type": "markdown",
   "id": "0d171fa8-5092-41bd-ba5c-8d1a84d06121",
   "metadata": {},
   "source": [
    "#### In order to make our API we need to export all the processing our model. This will allow us to process our new data and make a prediction."
   ]
  },
  {
   "cell_type": "code",
   "execution_count": 82,
   "id": "6b5339be-7a68-4605-af21-baa4bdde2c45",
   "metadata": {},
   "outputs": [],
   "source": [
    "pickle.dump(ensemble, open('Flask_restful_api/model.pickle', 'wb'))\n",
    "pickle.dump(scalar, open('Flask_restful_api/scaler.pickle','wb'))\n",
    "pickle.dump(column_trans, open('Flask_restful_api/column_trans.pickle','wb'))"
   ]
  }
 ],
 "metadata": {
  "kernelspec": {
   "display_name": "Python 3 (ipykernel)",
   "language": "python",
   "name": "python3"
  },
  "language_info": {
   "codemirror_mode": {
    "name": "ipython",
    "version": 3
   },
   "file_extension": ".py",
   "mimetype": "text/x-python",
   "name": "python",
   "nbconvert_exporter": "python",
   "pygments_lexer": "ipython3",
   "version": "3.9.16"
  }
 },
 "nbformat": 4,
 "nbformat_minor": 5
}
