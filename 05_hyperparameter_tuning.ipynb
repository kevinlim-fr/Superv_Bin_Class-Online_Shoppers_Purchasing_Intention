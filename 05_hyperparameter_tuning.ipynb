{
 "cells": [
  {
   "cell_type": "markdown",
   "id": "7ff2de8b-cb4c-4358-b80e-41b26f8a64da",
   "metadata": {},
   "source": [
    "# <b> Notebook 5 : Hyperparameter Tuning"
   ]
  },
  {
   "cell_type": "code",
   "execution_count": 1,
   "id": "8d9050a4-f29f-4c30-8e7f-a78ed84ecc72",
   "metadata": {
    "tags": []
   },
   "outputs": [],
   "source": [
    "# Import packages, functions\n",
    "%run ../klicp/klicp_00_import_and_functions.ipynb\n",
    "%run ../klicp/klicp_01_data_import_tools.ipynb\n",
    "%run ../klicp/klicp_06_hyperparameter_tuning.ipynb\n",
    "\n",
    "# Import dataframes\n",
    "%run 01_processing.ipynb"
   ]
  },
  {
   "cell_type": "markdown",
   "id": "898f8f82-3bf4-4917-a363-278c56960b51",
   "metadata": {},
   "source": [
    "#### We will tune the hyperparameters of our four best performing algorithms to see if we can improve the accuracy and f-score. We have to tune our parameters by the F-score because our dataset is unbalanced."
   ]
  },
  {
   "cell_type": "markdown",
   "id": "ba493659-18a5-4527-9e84-8f684cf4598d",
   "metadata": {},
   "source": [
    "## <b> Hyperopt Method (Latest)"
   ]
  },
  {
   "cell_type": "code",
   "execution_count": 3,
   "id": "d4257a9d-0723-4a57-81db-5402fc36078f",
   "metadata": {},
   "outputs": [],
   "source": [
    "mlflow.set_tracking_uri(\"http://127.0.0.1:5000\")"
   ]
  },
  {
   "cell_type": "code",
   "execution_count": 4,
   "id": "3c6067b5-6a18-4661-a7b9-8ac87a424d1b",
   "metadata": {
    "scrolled": true,
    "tags": []
   },
   "outputs": [
    {
     "name": "stdout",
     "output_type": "stream",
     "text": [
      "[09:11:34] WARNING: ../src/learner.cc:767:             \n",
      "Parameters: { \"colsample_bylevel\", \"colsample_bynode\", \"colsample_bytree\", \"gamma\", \"max_delta_step\", \"max_depth\", \"max_leaves\", \"min_child_weight\", \"subsample\", \"tree_method\" } are not used.\n",
      "\n",
      "[09:11:37] WARNING: ../src/learner.cc:767:                                         \n",
      "Parameters: { \"colsample_bylevel\", \"colsample_bynode\", \"colsample_bytree\", \"gamma\", \"max_delta_step\", \"max_depth\", \"max_leaves\", \"min_child_weight\", \"scale_pos_weight\", \"subsample\", \"tree_method\" } are not used.\n",
      "\n",
      "[09:11:39] WARNING: ../src/learner.cc:767:                                         \n",
      "Parameters: { \"scale_pos_weight\" } are not used.\n",
      "\n",
      "[09:11:41] WARNING: ../src/learner.cc:767:                                         \n",
      "Parameters: { \"colsample_bylevel\", \"colsample_bynode\", \"colsample_bytree\", \"gamma\", \"max_delta_step\", \"max_depth\", \"max_leaves\", \"min_child_weight\", \"scale_pos_weight\", \"subsample\", \"tree_method\" } are not used.\n",
      "\n",
      "[09:11:44] WARNING: ../src/learner.cc:767:                                        \n",
      "Parameters: { \"scale_pos_weight\" } are not used.\n",
      "\n",
      "[09:11:51] WARNING: ../src/learner.cc:767:                                        \n",
      "Parameters: { \"colsample_bylevel\", \"colsample_bynode\", \"colsample_bytree\", \"gamma\", \"max_delta_step\", \"max_depth\", \"max_leaves\", \"min_child_weight\", \"scale_pos_weight\", \"subsample\", \"tree_method\" } are not used.\n",
      "\n",
      "[09:11:53] WARNING: ../src/learner.cc:767:                                        \n",
      "Parameters: { \"colsample_bylevel\", \"colsample_bynode\", \"colsample_bytree\", \"gamma\", \"max_delta_step\", \"max_depth\", \"max_leaves\", \"min_child_weight\", \"subsample\", \"tree_method\" } are not used.\n",
      "\n",
      "[09:12:00] WARNING: ../src/learner.cc:767:                                         \n",
      "Parameters: { \"colsample_bylevel\", \"colsample_bynode\", \"colsample_bytree\", \"gamma\", \"max_delta_step\", \"max_depth\", \"max_leaves\", \"min_child_weight\", \"subsample\", \"tree_method\" } are not used.\n",
      "\n",
      "[09:12:18] WARNING: ../src/learner.cc:767:                                         \n",
      "Parameters: { \"colsample_bylevel\", \"colsample_bynode\", \"colsample_bytree\", \"gamma\", \"max_delta_step\", \"max_depth\", \"max_leaves\", \"min_child_weight\", \"subsample\", \"tree_method\" } are not used.\n",
      "\n",
      "[09:12:20] WARNING: ../src/learner.cc:767:                                         \n",
      "Parameters: { \"scale_pos_weight\" } are not used.\n",
      "\n",
      "[09:12:22] WARNING: ../src/learner.cc:767:                                         \n",
      "Parameters: { \"colsample_bylevel\", \"colsample_bynode\", \"colsample_bytree\", \"gamma\", \"max_delta_step\", \"max_depth\", \"max_leaves\", \"min_child_weight\", \"subsample\", \"tree_method\" } are not used.\n",
      "\n",
      "[09:12:33] WARNING: ../src/learner.cc:767:                                         \n",
      "Parameters: { \"scale_pos_weight\" } are not used.\n",
      "\n",
      "[09:12:35] WARNING: ../src/learner.cc:767:                                         \n",
      "Parameters: { \"scale_pos_weight\" } are not used.\n",
      "\n",
      "[09:12:37] WARNING: ../src/learner.cc:767:                                         \n",
      "Parameters: { \"scale_pos_weight\" } are not used.\n",
      "\n",
      "[09:12:45] WARNING: ../src/learner.cc:767:                                         \n",
      "Parameters: { \"scale_pos_weight\" } are not used.\n",
      "\n",
      "[09:12:48] WARNING: ../src/learner.cc:767:                                         \n",
      "Parameters: { \"scale_pos_weight\" } are not used.\n",
      "\n",
      "[09:12:52] WARNING: ../src/learner.cc:767:                                         \n",
      "Parameters: { \"scale_pos_weight\" } are not used.\n",
      "\n",
      "[09:12:54] WARNING: ../src/learner.cc:767:                                         \n",
      "Parameters: { \"scale_pos_weight\" } are not used.\n",
      "\n",
      "[09:12:57] WARNING: ../src/learner.cc:767:                                         \n",
      "Parameters: { \"scale_pos_weight\" } are not used.\n",
      "\n",
      "[09:12:59] WARNING: ../src/learner.cc:767:                                         \n",
      "Parameters: { \"scale_pos_weight\" } are not used.\n",
      "\n",
      "[09:13:08] WARNING: ../src/learner.cc:767:                                         \n",
      "Parameters: { \"scale_pos_weight\" } are not used.\n",
      "\n",
      "[09:13:10] WARNING: ../src/learner.cc:767:                                         \n",
      "Parameters: { \"scale_pos_weight\" } are not used.\n",
      "\n",
      "[09:13:12] WARNING: ../src/learner.cc:767:                                         \n",
      "Parameters: { \"scale_pos_weight\" } are not used.\n",
      "\n",
      "[09:13:15] WARNING: ../src/learner.cc:767:                                         \n",
      "Parameters: { \"scale_pos_weight\" } are not used.\n",
      "\n",
      "[09:13:17] WARNING: ../src/learner.cc:767:                                         \n",
      "Parameters: { \"scale_pos_weight\" } are not used.\n",
      "\n",
      "[09:13:22] WARNING: ../src/learner.cc:767:                                         \n",
      "Parameters: { \"scale_pos_weight\" } are not used.\n",
      "\n",
      "[09:13:24] WARNING: ../src/learner.cc:767:                                         \n",
      "Parameters: { \"scale_pos_weight\" } are not used.\n",
      "\n",
      "[09:13:26] WARNING: ../src/learner.cc:767:                                         \n",
      "Parameters: { \"colsample_bylevel\", \"colsample_bynode\", \"colsample_bytree\", \"gamma\", \"max_delta_step\", \"max_depth\", \"max_leaves\", \"min_child_weight\", \"scale_pos_weight\", \"subsample\", \"tree_method\" } are not used.\n",
      "\n",
      "[09:13:31] WARNING: ../src/learner.cc:767:                                         \n",
      "Parameters: { \"colsample_bylevel\", \"colsample_bynode\", \"colsample_bytree\", \"gamma\", \"max_delta_step\", \"max_depth\", \"max_leaves\", \"min_child_weight\", \"scale_pos_weight\", \"subsample\", \"tree_method\" } are not used.\n",
      "\n",
      "[09:13:39] WARNING: ../src/learner.cc:767:                                         \n",
      "Parameters: { \"scale_pos_weight\" } are not used.\n",
      "\n",
      "[09:13:44] WARNING: ../src/learner.cc:767:                                         \n",
      "Parameters: { \"colsample_bylevel\", \"colsample_bynode\", \"colsample_bytree\", \"gamma\", \"max_delta_step\", \"max_depth\", \"max_leaves\", \"min_child_weight\", \"scale_pos_weight\", \"subsample\", \"tree_method\" } are not used.\n",
      "\n",
      "[09:13:51] WARNING: ../src/learner.cc:767:                                         \n",
      "Parameters: { \"colsample_bylevel\", \"colsample_bynode\", \"colsample_bytree\", \"gamma\", \"max_delta_step\", \"max_depth\", \"max_leaves\", \"min_child_weight\", \"subsample\", \"tree_method\" } are not used.\n",
      "\n",
      "[09:13:53] WARNING: ../src/learner.cc:767:                                         \n",
      "Parameters: { \"scale_pos_weight\" } are not used.\n",
      "\n",
      "[09:13:58] WARNING: ../src/learner.cc:767:                                         \n",
      "Parameters: { \"scale_pos_weight\" } are not used.\n",
      "\n",
      "[09:14:08] WARNING: ../src/learner.cc:767:                                         \n",
      "Parameters: { \"colsample_bylevel\", \"colsample_bynode\", \"colsample_bytree\", \"gamma\", \"max_delta_step\", \"max_depth\", \"max_leaves\", \"min_child_weight\", \"subsample\", \"tree_method\" } are not used.\n",
      "\n",
      "[09:14:11] WARNING: ../src/learner.cc:767:                                         \n",
      "Parameters: { \"scale_pos_weight\" } are not used.\n",
      "\n",
      "[09:14:13] WARNING: ../src/learner.cc:767:                                         \n",
      "Parameters: { \"scale_pos_weight\" } are not used.\n",
      "\n",
      "[09:14:20] WARNING: ../src/learner.cc:767:                                         \n",
      "Parameters: { \"scale_pos_weight\" } are not used.\n",
      "\n",
      "[09:14:22] WARNING: ../src/learner.cc:767:                                         \n",
      "Parameters: { \"colsample_bylevel\", \"colsample_bynode\", \"colsample_bytree\", \"gamma\", \"max_delta_step\", \"max_depth\", \"max_leaves\", \"min_child_weight\", \"subsample\", \"tree_method\" } are not used.\n",
      "\n",
      "[09:14:24] WARNING: ../src/learner.cc:767:                                         \n",
      "Parameters: { \"scale_pos_weight\" } are not used.\n",
      "\n",
      "[09:14:27] WARNING: ../src/learner.cc:767:                                         \n",
      "Parameters: { \"scale_pos_weight\" } are not used.\n",
      "\n",
      "[09:14:32] WARNING: ../src/learner.cc:767:                                        \n",
      "Parameters: { \"scale_pos_weight\" } are not used.\n",
      "\n",
      "[09:14:36] WARNING: ../src/learner.cc:767:                                        \n",
      "Parameters: { \"scale_pos_weight\" } are not used.\n",
      "\n",
      "[09:14:47] WARNING: ../src/learner.cc:767:                                         \n",
      "Parameters: { \"scale_pos_weight\" } are not used.\n",
      "\n",
      "[09:14:52] WARNING: ../src/learner.cc:767:                                         \n",
      "Parameters: { \"scale_pos_weight\" } are not used.\n",
      "\n",
      "[09:15:04] WARNING: ../src/learner.cc:767:                                         \n",
      "Parameters: { \"scale_pos_weight\" } are not used.\n",
      "\n",
      "[09:15:10] WARNING: ../src/learner.cc:767:                                         \n",
      "Parameters: { \"scale_pos_weight\" } are not used.\n",
      "\n",
      "[09:15:15] WARNING: ../src/learner.cc:767:                                         \n",
      "Parameters: { \"scale_pos_weight\" } are not used.\n",
      "\n",
      "[09:15:19] WARNING: ../src/learner.cc:767:                                         \n",
      "Parameters: { \"scale_pos_weight\" } are not used.\n",
      "\n",
      "[09:15:24] WARNING: ../src/learner.cc:767:                                         \n",
      "Parameters: { \"scale_pos_weight\" } are not used.\n",
      "\n",
      "[09:15:30] WARNING: ../src/learner.cc:767:                                         \n",
      "Parameters: { \"scale_pos_weight\" } are not used.\n",
      "\n",
      "[09:15:35] WARNING: ../src/learner.cc:767:                                         \n",
      "Parameters: { \"scale_pos_weight\" } are not used.\n",
      "\n",
      "[09:15:40] WARNING: ../src/learner.cc:767:                                         \n",
      "Parameters: { \"scale_pos_weight\" } are not used.\n",
      "\n",
      "[09:15:46] WARNING: ../src/learner.cc:767:                                         \n",
      "Parameters: { \"scale_pos_weight\" } are not used.\n",
      "\n",
      "[09:15:52] WARNING: ../src/learner.cc:767:                                         \n",
      "Parameters: { \"scale_pos_weight\" } are not used.\n",
      "\n",
      "[09:15:57] WARNING: ../src/learner.cc:767:                                         \n",
      "Parameters: { \"scale_pos_weight\" } are not used.\n",
      "\n",
      "[09:16:09] WARNING: ../src/learner.cc:767:                                         \n",
      "Parameters: { \"scale_pos_weight\" } are not used.\n",
      "\n",
      "[09:16:23] WARNING: ../src/learner.cc:767:                                         \n",
      "Parameters: { \"scale_pos_weight\" } are not used.\n",
      "\n",
      "[09:16:30] WARNING: ../src/learner.cc:767:                                         \n",
      "Parameters: { \"scale_pos_weight\" } are not used.\n",
      "\n",
      "[09:16:38] WARNING: ../src/learner.cc:767:                                         \n",
      "Parameters: { \"scale_pos_weight\" } are not used.\n",
      "\n",
      "[09:16:50] WARNING: ../src/learner.cc:767:                                         \n",
      "Parameters: { \"scale_pos_weight\" } are not used.\n",
      "\n",
      "[09:17:09] WARNING: ../src/learner.cc:767:                                         \n",
      "Parameters: { \"colsample_bylevel\", \"colsample_bynode\", \"colsample_bytree\", \"gamma\", \"max_delta_step\", \"max_depth\", \"max_leaves\", \"min_child_weight\", \"scale_pos_weight\", \"subsample\", \"tree_method\" } are not used.\n",
      "\n",
      "[09:17:13] WARNING: ../src/learner.cc:767:                                         \n",
      "Parameters: { \"scale_pos_weight\" } are not used.\n",
      "\n",
      "[09:17:25] WARNING: ../src/learner.cc:767:                                         \n",
      "Parameters: { \"scale_pos_weight\" } are not used.\n",
      "\n",
      "[09:17:30] WARNING: ../src/learner.cc:767:                                         \n",
      "Parameters: { \"colsample_bylevel\", \"colsample_bynode\", \"colsample_bytree\", \"gamma\", \"max_delta_step\", \"max_depth\", \"max_leaves\", \"min_child_weight\", \"subsample\", \"tree_method\" } are not used.\n",
      "\n",
      "[09:17:32] WARNING: ../src/learner.cc:767:                                         \n",
      "Parameters: { \"scale_pos_weight\" } are not used.\n",
      "\n",
      "[09:17:37] WARNING: ../src/learner.cc:767:                                         \n",
      "Parameters: { \"scale_pos_weight\" } are not used.\n",
      "\n",
      "[09:17:43] WARNING: ../src/learner.cc:767:                                         \n",
      "Parameters: { \"scale_pos_weight\" } are not used.\n",
      "\n",
      "[09:17:48] WARNING: ../src/learner.cc:767:                                         \n",
      "Parameters: { \"colsample_bylevel\", \"colsample_bynode\", \"colsample_bytree\", \"gamma\", \"max_delta_step\", \"max_depth\", \"max_leaves\", \"min_child_weight\", \"subsample\", \"tree_method\" } are not used.\n",
      "\n",
      "[09:17:51] WARNING: ../src/learner.cc:767:                                         \n",
      "Parameters: { \"scale_pos_weight\" } are not used.\n",
      "\n",
      "[09:18:04] WARNING: ../src/learner.cc:767:                                         \n",
      "Parameters: { \"scale_pos_weight\" } are not used.\n",
      "\n",
      "[09:18:12] WARNING: ../src/learner.cc:767:                                         \n",
      "Parameters: { \"colsample_bylevel\", \"colsample_bynode\", \"colsample_bytree\", \"gamma\", \"max_delta_step\", \"max_depth\", \"max_leaves\", \"min_child_weight\", \"scale_pos_weight\", \"subsample\", \"tree_method\" } are not used.\n",
      "\n",
      "[09:18:23] WARNING: ../src/learner.cc:767:                                         \n",
      "Parameters: { \"scale_pos_weight\" } are not used.\n",
      "\n",
      "[09:18:29] WARNING: ../src/learner.cc:767:                                         \n",
      "Parameters: { \"scale_pos_weight\" } are not used.\n",
      "\n",
      "[09:18:39] WARNING: ../src/learner.cc:767:                                          \n",
      "Parameters: { \"colsample_bylevel\", \"colsample_bynode\", \"colsample_bytree\", \"gamma\", \"max_delta_step\", \"max_depth\", \"max_leaves\", \"min_child_weight\", \"scale_pos_weight\", \"subsample\", \"tree_method\" } are not used.\n",
      "\n",
      "[09:18:42] WARNING: ../src/learner.cc:767:                                          \n",
      "Parameters: { \"scale_pos_weight\" } are not used.\n",
      "\n",
      "[09:18:53] WARNING: ../src/learner.cc:767:                                          \n",
      "Parameters: { \"scale_pos_weight\" } are not used.\n",
      "\n",
      "[09:18:59] WARNING: ../src/learner.cc:767:                                          \n",
      "Parameters: { \"scale_pos_weight\" } are not used.\n",
      "\n",
      "[09:19:04] WARNING: ../src/learner.cc:767:                                          \n",
      "Parameters: { \"colsample_bylevel\", \"colsample_bynode\", \"colsample_bytree\", \"gamma\", \"max_delta_step\", \"max_depth\", \"max_leaves\", \"min_child_weight\", \"subsample\", \"tree_method\" } are not used.\n",
      "\n",
      "[09:19:07] WARNING: ../src/learner.cc:767:                                          \n",
      "Parameters: { \"scale_pos_weight\" } are not used.\n",
      "\n",
      "[09:19:11] WARNING: ../src/learner.cc:767:                                          \n",
      "Parameters: { \"scale_pos_weight\" } are not used.\n",
      "\n",
      "[09:19:16] WARNING: ../src/learner.cc:767:                                          \n",
      "Parameters: { \"scale_pos_weight\" } are not used.\n",
      "\n",
      "[09:19:27] WARNING: ../src/learner.cc:767:                                          \n",
      "Parameters: { \"colsample_bylevel\", \"colsample_bynode\", \"colsample_bytree\", \"gamma\", \"max_delta_step\", \"max_depth\", \"max_leaves\", \"min_child_weight\", \"scale_pos_weight\", \"subsample\", \"tree_method\" } are not used.\n",
      "\n",
      "[09:19:35] WARNING: ../src/learner.cc:767:                                          \n",
      "Parameters: { \"scale_pos_weight\" } are not used.\n",
      "\n",
      "[09:19:40] WARNING: ../src/learner.cc:767:                                          \n",
      "Parameters: { \"scale_pos_weight\" } are not used.\n",
      "\n",
      "[09:19:45] WARNING: ../src/learner.cc:767:                                          \n",
      "Parameters: { \"scale_pos_weight\" } are not used.\n",
      "\n",
      "[09:19:56] WARNING: ../src/learner.cc:767:                                          \n",
      "Parameters: { \"colsample_bylevel\", \"colsample_bynode\", \"colsample_bytree\", \"gamma\", \"max_delta_step\", \"max_depth\", \"max_leaves\", \"min_child_weight\", \"scale_pos_weight\", \"subsample\", \"tree_method\" } are not used.\n",
      "\n",
      "[09:20:08] WARNING: ../src/learner.cc:767:                                          \n",
      "Parameters: { \"scale_pos_weight\" } are not used.\n",
      "\n",
      "[09:20:13] WARNING: ../src/learner.cc:767:                                          \n",
      "Parameters: { \"scale_pos_weight\" } are not used.\n",
      "\n",
      "[09:20:18] WARNING: ../src/learner.cc:767:                                          \n",
      "Parameters: { \"scale_pos_weight\" } are not used.\n",
      "\n",
      "[09:20:24] WARNING: ../src/learner.cc:767:                                          \n",
      "Parameters: { \"colsample_bylevel\", \"colsample_bynode\", \"colsample_bytree\", \"gamma\", \"max_delta_step\", \"max_depth\", \"max_leaves\", \"min_child_weight\", \"subsample\", \"tree_method\" } are not used.\n",
      "\n",
      "[09:20:26] WARNING: ../src/learner.cc:767:                                          \n",
      "Parameters: { \"scale_pos_weight\" } are not used.\n",
      "\n",
      "[09:20:34] WARNING: ../src/learner.cc:767:                                          \n",
      "Parameters: { \"scale_pos_weight\" } are not used.\n",
      "\n",
      "[09:20:39] WARNING: ../src/learner.cc:767:                                          \n",
      "Parameters: { \"scale_pos_weight\" } are not used.\n",
      "\n",
      "[09:20:43] WARNING: ../src/learner.cc:767:                                          \n",
      "Parameters: { \"scale_pos_weight\" } are not used.\n",
      "\n",
      "[09:20:51] WARNING: ../src/learner.cc:767:                                          \n",
      "Parameters: { \"colsample_bylevel\", \"colsample_bynode\", \"colsample_bytree\", \"gamma\", \"max_delta_step\", \"max_depth\", \"max_leaves\", \"min_child_weight\", \"scale_pos_weight\", \"subsample\", \"tree_method\" } are not used.\n",
      "\n",
      "[09:20:53] WARNING: ../src/learner.cc:767:                                          \n",
      "Parameters: { \"scale_pos_weight\" } are not used.\n",
      "\n",
      "[09:21:09] WARNING: ../src/learner.cc:767:                                          \n",
      "Parameters: { \"scale_pos_weight\" } are not used.\n",
      "\n",
      "[09:21:14] WARNING: ../src/learner.cc:767:                                          \n",
      "Parameters: { \"scale_pos_weight\" } are not used.\n",
      "\n",
      "[09:21:21] WARNING: ../src/learner.cc:767:                                          \n",
      "Parameters: { \"colsample_bylevel\", \"colsample_bynode\", \"colsample_bytree\", \"gamma\", \"max_delta_step\", \"max_depth\", \"max_leaves\", \"min_child_weight\", \"scale_pos_weight\", \"subsample\", \"tree_method\" } are not used.\n",
      "\n",
      "[09:21:23] WARNING: ../src/learner.cc:767:                                          \n",
      "Parameters: { \"scale_pos_weight\" } are not used.\n",
      "\n",
      "[09:21:33] WARNING: ../src/learner.cc:767:                                          \n",
      "Parameters: { \"scale_pos_weight\" } are not used.\n",
      "\n",
      "[09:21:36] WARNING: ../src/learner.cc:767:                                          \n",
      "Parameters: { \"scale_pos_weight\" } are not used.\n",
      "\n",
      "[09:21:47] WARNING: ../src/learner.cc:767:                                          \n",
      "Parameters: { \"colsample_bylevel\", \"colsample_bynode\", \"colsample_bytree\", \"gamma\", \"max_delta_step\", \"max_depth\", \"max_leaves\", \"min_child_weight\", \"scale_pos_weight\", \"subsample\", \"tree_method\" } are not used.\n",
      "\n",
      "[09:21:49] WARNING: ../src/learner.cc:767:                                          \n",
      "Parameters: { \"scale_pos_weight\" } are not used.\n",
      "\n",
      "[09:21:59] WARNING: ../src/learner.cc:767:                                          \n",
      "Parameters: { \"scale_pos_weight\" } are not used.\n",
      "\n",
      "[09:22:01] WARNING: ../src/learner.cc:767:                                          \n",
      "Parameters: { \"scale_pos_weight\" } are not used.\n",
      "\n",
      "[09:22:09] WARNING: ../src/learner.cc:767:                                          \n",
      "Parameters: { \"scale_pos_weight\" } are not used.\n",
      "\n",
      "[09:22:15] WARNING: ../src/learner.cc:767:                                          \n",
      "Parameters: { \"scale_pos_weight\" } are not used.\n",
      "\n",
      "[09:22:19] WARNING: ../src/learner.cc:767:                                          \n",
      "Parameters: { \"scale_pos_weight\" } are not used.\n",
      "\n",
      "[09:22:25] WARNING: ../src/learner.cc:767:                                          \n",
      "Parameters: { \"scale_pos_weight\" } are not used.\n",
      "\n",
      "[09:22:30] WARNING: ../src/learner.cc:767:                                          \n",
      "Parameters: { \"scale_pos_weight\" } are not used.\n",
      "\n",
      "[09:22:35] WARNING: ../src/learner.cc:767:                                          \n",
      "Parameters: { \"scale_pos_weight\" } are not used.\n",
      "\n",
      "[09:22:39] WARNING: ../src/learner.cc:767:                                          \n",
      "Parameters: { \"scale_pos_weight\" } are not used.\n",
      "\n",
      "[09:22:44] WARNING: ../src/learner.cc:767:                                          \n",
      "Parameters: { \"scale_pos_weight\" } are not used.\n",
      "\n",
      "[09:22:50] WARNING: ../src/learner.cc:767:                                          \n",
      "Parameters: { \"scale_pos_weight\" } are not used.\n",
      "\n",
      "[09:22:55] WARNING: ../src/learner.cc:767:                                          \n",
      "Parameters: { \"scale_pos_weight\" } are not used.\n",
      "\n",
      "[09:22:59] WARNING: ../src/learner.cc:767:                                          \n",
      "Parameters: { \"scale_pos_weight\" } are not used.\n",
      "\n",
      "[09:23:07] WARNING: ../src/learner.cc:767:                                          \n",
      "Parameters: { \"scale_pos_weight\" } are not used.\n",
      "\n",
      "[09:23:12] WARNING: ../src/learner.cc:767:                                          \n",
      "Parameters: { \"scale_pos_weight\" } are not used.\n",
      "\n",
      "[09:23:19] WARNING: ../src/learner.cc:767:                                          \n",
      "Parameters: { \"scale_pos_weight\" } are not used.\n",
      "\n",
      "[09:23:31] WARNING: ../src/learner.cc:767:                                          \n",
      "Parameters: { \"colsample_bylevel\", \"colsample_bynode\", \"colsample_bytree\", \"gamma\", \"max_delta_step\", \"max_depth\", \"max_leaves\", \"min_child_weight\", \"scale_pos_weight\", \"subsample\", \"tree_method\" } are not used.\n",
      "\n",
      "[09:23:33] WARNING: ../src/learner.cc:767:                                          \n",
      "Parameters: { \"scale_pos_weight\" } are not used.\n",
      "\n",
      "[09:23:43] WARNING: ../src/learner.cc:767:                                          \n",
      "Parameters: { \"scale_pos_weight\" } are not used.\n",
      "\n",
      "[09:23:48] WARNING: ../src/learner.cc:767:                                          \n",
      "Parameters: { \"scale_pos_weight\" } are not used.\n",
      "\n",
      "[09:23:50] WARNING: ../src/learner.cc:767:                                          \n",
      "Parameters: { \"scale_pos_weight\" } are not used.\n",
      "\n",
      "[09:24:00] WARNING: ../src/learner.cc:767:                                          \n",
      "Parameters: { \"colsample_bylevel\", \"colsample_bynode\", \"colsample_bytree\", \"gamma\", \"max_delta_step\", \"max_depth\", \"max_leaves\", \"min_child_weight\", \"scale_pos_weight\", \"subsample\", \"tree_method\" } are not used.\n",
      "\n",
      "[09:24:02] WARNING: ../src/learner.cc:767:                                          \n",
      "Parameters: { \"scale_pos_weight\" } are not used.\n",
      "\n",
      "[09:24:14] WARNING: ../src/learner.cc:767:                                          \n",
      "Parameters: { \"scale_pos_weight\" } are not used.\n",
      "\n",
      "[09:24:20] WARNING: ../src/learner.cc:767:                                          \n",
      "Parameters: { \"scale_pos_weight\" } are not used.\n",
      "\n",
      "[09:24:27] WARNING: ../src/learner.cc:767:                                          \n",
      "Parameters: { \"colsample_bylevel\", \"colsample_bynode\", \"colsample_bytree\", \"gamma\", \"max_delta_step\", \"max_depth\", \"max_leaves\", \"min_child_weight\", \"scale_pos_weight\", \"subsample\", \"tree_method\" } are not used.\n",
      "\n",
      "[09:24:30] WARNING: ../src/learner.cc:767:                                          \n",
      "Parameters: { \"scale_pos_weight\" } are not used.\n",
      "\n",
      "[09:24:39] WARNING: ../src/learner.cc:767:                                          \n",
      "Parameters: { \"scale_pos_weight\" } are not used.\n",
      "\n",
      "[09:24:44] WARNING: ../src/learner.cc:767:                                          \n",
      "Parameters: { \"scale_pos_weight\" } are not used.\n",
      "\n",
      "[09:24:46] WARNING: ../src/learner.cc:767:                                          \n",
      "Parameters: { \"scale_pos_weight\" } are not used.\n",
      "\n",
      "[09:24:56] WARNING: ../src/learner.cc:767:                                          \n",
      "Parameters: { \"colsample_bylevel\", \"colsample_bynode\", \"colsample_bytree\", \"gamma\", \"max_delta_step\", \"max_depth\", \"max_leaves\", \"min_child_weight\", \"scale_pos_weight\", \"subsample\", \"tree_method\" } are not used.\n",
      "\n",
      "[09:24:58] WARNING: ../src/learner.cc:767:                                          \n",
      "Parameters: { \"scale_pos_weight\" } are not used.\n",
      "\n",
      "[09:25:09] WARNING: ../src/learner.cc:767:                                          \n",
      "Parameters: { \"scale_pos_weight\" } are not used.\n",
      "\n",
      "[09:25:14] WARNING: ../src/learner.cc:767:                                          \n",
      "Parameters: { \"scale_pos_weight\" } are not used.\n",
      "\n",
      "[09:25:17] WARNING: ../src/learner.cc:767:                                          \n",
      "Parameters: { \"scale_pos_weight\" } are not used.\n",
      "\n",
      "[09:25:26] WARNING: ../src/learner.cc:767:                                          \n",
      "Parameters: { \"colsample_bylevel\", \"colsample_bynode\", \"colsample_bytree\", \"gamma\", \"max_delta_step\", \"max_depth\", \"max_leaves\", \"min_child_weight\", \"scale_pos_weight\", \"subsample\", \"tree_method\" } are not used.\n",
      "\n",
      "[09:25:28] WARNING: ../src/learner.cc:767:                                          \n",
      "Parameters: { \"scale_pos_weight\" } are not used.\n",
      "\n",
      "[09:25:39] WARNING: ../src/learner.cc:767:                                          \n",
      "Parameters: { \"scale_pos_weight\" } are not used.\n",
      "\n",
      "[09:25:44] WARNING: ../src/learner.cc:767:                                          \n",
      "Parameters: { \"scale_pos_weight\" } are not used.\n",
      "\n",
      "[09:25:46] WARNING: ../src/learner.cc:767:                                          \n",
      "Parameters: { \"scale_pos_weight\" } are not used.\n",
      "\n",
      "[09:25:55] WARNING: ../src/learner.cc:767:                                          \n",
      "Parameters: { \"colsample_bylevel\", \"colsample_bynode\", \"colsample_bytree\", \"gamma\", \"max_delta_step\", \"max_depth\", \"max_leaves\", \"min_child_weight\", \"scale_pos_weight\", \"subsample\", \"tree_method\" } are not used.\n",
      "\n",
      "[09:25:58] WARNING: ../src/learner.cc:767:                                          \n",
      "Parameters: { \"scale_pos_weight\" } are not used.\n",
      "\n",
      "[09:26:10] WARNING: ../src/learner.cc:767:                                          \n",
      "Parameters: { \"scale_pos_weight\" } are not used.\n",
      "\n",
      "[09:26:15] WARNING: ../src/learner.cc:767:                                          \n",
      "Parameters: { \"scale_pos_weight\" } are not used.\n",
      "\n",
      "[09:26:17] WARNING: ../src/learner.cc:767:                                          \n",
      "Parameters: { \"scale_pos_weight\" } are not used.\n",
      "\n",
      " 40%|████      | 200/500 [14:47<22:11,  4.44s/trial, best loss: -0.9318583088931801]\n"
     ]
    }
   ],
   "source": [
    "algo = 'XGBClassifier'\n",
    "mode = 'classification'\n",
    "parameters_space = spaces[algo]\n",
    "num_eval = 500\n",
    "trials = Trials()\n",
    "\n",
    "partial_func = partial(objective_function, algo = algo, mode=mode, X_train=X_train, X_test=X_test, y_train=y_train, y_test=y_test)\n",
    "\n",
    "best_param = fmin(partial_func, parameters_space, algo=tpe.suggest, max_evals=num_eval, trials=trials,\n",
    "                      rstate= np.random.default_rng(1), early_stop_fn=no_progress_loss(round(num_eval/4)))"
   ]
  },
  {
   "cell_type": "code",
   "execution_count": 5,
   "id": "c4517a9c-fabf-4450-b18a-eb72311f280e",
   "metadata": {
    "tags": []
   },
   "outputs": [],
   "source": [
    "best_param_export = convert_best_param(best_param, parameters_space)\n",
    "best_param_export\n",
    "\n",
    "# Pickling the dictionary\n",
    "with open(\"best_param_%s.pickle\"%(algo), \"wb\") as f:\n",
    "    pickle.dump(best_param_export, f)"
   ]
  },
  {
   "cell_type": "code",
   "execution_count": 6,
   "id": "128d2558-e83d-4c23-930e-382a8cad6af3",
   "metadata": {},
   "outputs": [
    {
     "data": {
      "text/plain": [
       "{'objective': 'binary:hinge',\n",
       " 'eval_metric': 'merror',\n",
       " 'booster': 'dart',\n",
       " 'learning_rate': 0.027190854916362413,\n",
       " 'gamma': 3,\n",
       " 'max_depth': 838,\n",
       " 'min_child_weight': 2,\n",
       " 'max_delta_step': 155,\n",
       " 'subsample': 0.6812427820750524,\n",
       " 'colsample_bytree': 0.8081818371086672,\n",
       " 'colsample_bylevel': 0.9587281464522058,\n",
       " 'colsample_bynode': 0.6388300410263845,\n",
       " 'reg_lambda': 0.013703407002288373,\n",
       " 'reg_alpha': 0.02994454816035446,\n",
       " 'tree_method': 'auto',\n",
       " 'scale_pos_weight': 524.0,\n",
       " 'max_leaves': 6}"
      ]
     },
     "execution_count": 6,
     "metadata": {},
     "output_type": "execute_result"
    }
   ],
   "source": [
    "best_param_export"
   ]
  },
  {
   "cell_type": "markdown",
   "id": "b21c0aca-942f-4d3f-b083-8cb97f814665",
   "metadata": {},
   "source": [
    "### Quick comparison"
   ]
  },
  {
   "cell_type": "code",
   "execution_count": 7,
   "id": "65bddae1-f6da-42ec-9b56-9d0620a9c6bb",
   "metadata": {
    "tags": []
   },
   "outputs": [
    {
     "data": {
      "text/plain": [
       "0.92629179331307"
      ]
     },
     "execution_count": 7,
     "metadata": {},
     "output_type": "execute_result"
    }
   ],
   "source": [
    "# Baseline Model\n",
    "clf = XGBClassifier()\n",
    "clf.fit(X_train,y_train)\n",
    "y_pred = clf.predict(X_test)\n",
    "f1_score(y_test,y_pred)"
   ]
  },
  {
   "cell_type": "code",
   "execution_count": 8,
   "id": "6463ac30-3310-4bb4-be43-524085e9c133",
   "metadata": {
    "tags": []
   },
   "outputs": [
    {
     "name": "stdout",
     "output_type": "stream",
     "text": [
      "[12:32:17] WARNING: ../src/learner.cc:767: \n",
      "Parameters: { \"scale_pos_weight\" } are not used.\n",
      "\n"
     ]
    },
    {
     "data": {
      "text/plain": [
       "0.9353233830845772"
      ]
     },
     "execution_count": 8,
     "metadata": {},
     "output_type": "execute_result"
    }
   ],
   "source": [
    "# Best Params Model\n",
    "clf = XGBClassifier(**best_param_export)\n",
    "clf.fit(X_train,y_train)\n",
    "y_pred = clf.predict(X_test)\n",
    "f1_score(y_test,y_pred)"
   ]
  },
  {
   "cell_type": "markdown",
   "id": "130c4b9c-fba9-4ad6-bf9a-361385457492",
   "metadata": {},
   "source": [
    "#### We can see that the hyperparameter optimized model is performing better than the baseline one"
   ]
  },
  {
   "cell_type": "markdown",
   "id": "cd776a34-7097-4e60-b11c-7c469bd4db54",
   "metadata": {},
   "source": [
    "## <b> Grid Search Method (Deprecated)"
   ]
  },
  {
   "cell_type": "markdown",
   "id": "72d07006-7151-41b4-b15c-99f54df7b338",
   "metadata": {
    "tags": []
   },
   "source": [
    "## Gradient Boosting"
   ]
  },
  {
   "cell_type": "code",
   "execution_count": 15,
   "id": "cb5c72e1-11ce-4b9b-a0f4-59b6e0c0de77",
   "metadata": {
    "scrolled": true
   },
   "outputs": [
    {
     "name": "stdout",
     "output_type": "stream",
     "text": [
      "Fitting 5 folds for each of 2916 candidates, totalling 14580 fits\n"
     ]
    },
    {
     "name": "stderr",
     "output_type": "stream",
     "text": [
      "[Parallel(n_jobs=-1)]: Using backend LokyBackend with 12 concurrent workers.\n",
      "[Parallel(n_jobs=-1)]: Done  26 tasks      | elapsed:    2.3s\n",
      "[Parallel(n_jobs=-1)]: Done 176 tasks      | elapsed:    4.8s\n",
      "[Parallel(n_jobs=-1)]: Done 576 tasks      | elapsed:    8.8s\n",
      "[Parallel(n_jobs=-1)]: Done 1276 tasks      | elapsed:   16.9s\n",
      "[Parallel(n_jobs=-1)]: Done 2176 tasks      | elapsed:   30.9s\n",
      "[Parallel(n_jobs=-1)]: Done 3276 tasks      | elapsed:   42.8s\n",
      "[Parallel(n_jobs=-1)]: Done 4576 tasks      | elapsed:   59.3s\n",
      "[Parallel(n_jobs=-1)]: Done 6076 tasks      | elapsed:  1.3min\n",
      "[Parallel(n_jobs=-1)]: Done 7566 tasks      | elapsed:  3.7min\n",
      "[Parallel(n_jobs=-1)]: Done 8516 tasks      | elapsed: 10.9min\n",
      "[Parallel(n_jobs=-1)]: Done 9566 tasks      | elapsed: 19.9min\n",
      "[Parallel(n_jobs=-1)]: Done 10716 tasks      | elapsed: 29.2min\n",
      "[Parallel(n_jobs=-1)]: Done 11966 tasks      | elapsed: 39.6min\n",
      "[Parallel(n_jobs=-1)]: Done 13316 tasks      | elapsed: 50.2min\n",
      "[Parallel(n_jobs=-1)]: Done 14580 out of 14580 | elapsed: 60.3min finished\n"
     ]
    },
    {
     "data": {
      "text/plain": [
       "GridSearchCV(cv=5, estimator=GradientBoostingClassifier(), n_jobs=-1,\n",
       "             param_grid=[{'criterion': ['friedman_mse', 'mae'],\n",
       "                          'learning_rate': [0.2, 0.3, 0.4],\n",
       "                          'loss': ['deviance'], 'max_depth': [8, 10, 15],\n",
       "                          'max_features': ['log2', 'sqrt'],\n",
       "                          'min_samples_leaf': [0.0001, 0.001, 0.01],\n",
       "                          'min_samples_split': [0.01, 0.1, 0.5],\n",
       "                          'n_estimators': [10, 20, 30],\n",
       "                          'subsample': [0.7, 0.8, 0.9]}],\n",
       "             scoring='f1', verbose=True)"
      ]
     },
     "execution_count": 15,
     "metadata": {},
     "output_type": "execute_result"
    }
   ],
   "source": [
    "parameters = [{\n",
    "    \"loss\":[\"deviance\"],\n",
    "    \"learning_rate\": [0.2,0.3,0.4],\n",
    "    \"min_samples_split\": [0.01,0.1, 0.5],\n",
    "    \"min_samples_leaf\": [0.0001,0.001, 0.01],\n",
    "    \"max_depth\":[8,10,15],\n",
    "    \"max_features\":[\"log2\",\"sqrt\"],\n",
    "    \"criterion\": [\"friedman_mse\",  \"mae\"],\n",
    "    \"subsample\":[0.7,0.8,0.9],\n",
    "    \"n_estimators\":[10,20,30]\n",
    "    }]\n",
    "gbm = GridSearchCV(GradientBoostingClassifier(), parameters, cv=5, n_jobs=-1,scoring='f1', verbose=True)\n",
    "gbm.fit(X_train,y_train)\n"
   ]
  },
  {
   "cell_type": "code",
   "execution_count": 16,
   "id": "7d00b191-4c5e-4f86-9a90-d95ecc0fcd02",
   "metadata": {},
   "outputs": [
    {
     "name": "stdout",
     "output_type": "stream",
     "text": [
      "{'criterion': 'friedman_mse', 'learning_rate': 0.2, 'loss': 'deviance', 'max_depth': 10, 'max_features': 'sqrt', 'min_samples_leaf': 0.0001, 'min_samples_split': 0.1, 'n_estimators': 30, 'subsample': 0.7}\n"
     ]
    }
   ],
   "source": [
    "print(gbm.best_params_)"
   ]
  },
  {
   "cell_type": "code",
   "execution_count": 18,
   "id": "b627156b-f4c2-4970-a0fa-fa4bef8ebc32",
   "metadata": {},
   "outputs": [
    {
     "data": {
      "text/plain": [
       "0.8926666666666667"
      ]
     },
     "execution_count": 18,
     "metadata": {},
     "output_type": "execute_result"
    }
   ],
   "source": [
    "# Gradient boosting with best parameters\n",
    "gs_gbm = GradientBoostingClassifier( \n",
    "    criterion='friedman_mse',\n",
    "    learning_rate=0.2,\n",
    "    loss='deviance',\n",
    "    max_depth=10,\n",
    "    max_features='sqrt',\n",
    "    min_samples_leaf= 0.0001,\n",
    "    min_samples_split= 0.1,\n",
    "    n_estimators = 30,\n",
    "    subsample = 0.7\n",
    ")\n",
    "gs_gbm.fit(X_train, y_train)\n",
    "gs_gbm.score(X_test,y_test)"
   ]
  },
  {
   "cell_type": "markdown",
   "id": "def55321-c62d-4fa8-a8c5-887e99516f84",
   "metadata": {},
   "source": [
    "## Stochastic gradient descent"
   ]
  },
  {
   "cell_type": "code",
   "execution_count": 18,
   "id": "75e5b303-db55-4c5c-8af5-a90f1e26c58b",
   "metadata": {},
   "outputs": [
    {
     "name": "stdout",
     "output_type": "stream",
     "text": [
      "Fitting 5 folds for each of 4608 candidates, totalling 23040 fits\n"
     ]
    },
    {
     "name": "stderr",
     "output_type": "stream",
     "text": [
      "[Parallel(n_jobs=-1)]: Using backend LokyBackend with 12 concurrent workers.\n",
      "[Parallel(n_jobs=-1)]: Done  28 tasks      | elapsed:    0.2s\n",
      "[Parallel(n_jobs=-1)]: Done 952 tasks      | elapsed:    5.7s\n",
      "[Parallel(n_jobs=-1)]: Done 1828 tasks      | elapsed:   13.3s\n",
      "[Parallel(n_jobs=-1)]: Done 3224 tasks      | elapsed:   24.6s\n",
      "[Parallel(n_jobs=-1)]: Done 5024 tasks      | elapsed:   39.9s\n",
      "[Parallel(n_jobs=-1)]: Done 7292 tasks      | elapsed:   56.8s\n",
      "[Parallel(n_jobs=-1)]: Done 9848 tasks      | elapsed:  1.2min\n",
      "[Parallel(n_jobs=-1)]: Done 13368 tasks      | elapsed:  1.6min\n",
      "[Parallel(n_jobs=-1)]: Done 16992 tasks      | elapsed:  2.0min\n",
      "[Parallel(n_jobs=-1)]: Done 23040 out of 23040 | elapsed:  2.5min finished\n"
     ]
    },
    {
     "data": {
      "text/plain": [
       "GridSearchCV(cv=5, estimator=SGDClassifier(), n_jobs=-1,\n",
       "             param_grid=[{'alpha': [0.0001, 0.001, 0.01, 0.1],\n",
       "                          'class_weight': [{0: 0.5, 1: 0.5}, {0: 0.6, 1: 0.4},\n",
       "                                           {0: 0.4, 1: 0.6}, {0: 0.3, 1: 0.7}],\n",
       "                          'eta0': [1, 10],\n",
       "                          'learning_rate': ['constant', 'optimal', 'invscaling',\n",
       "                                            'adaptive'],\n",
       "                          'loss': ['hinge', 'log', 'squared_hinge',\n",
       "                                   'perceptron'],\n",
       "                          'max_iter': [100, 200, 300],\n",
       "                          'penalty': ['elasticnet', 'l1', 'l2']}],\n",
       "             scoring='f1', verbose=True)"
      ]
     },
     "execution_count": 18,
     "metadata": {},
     "output_type": "execute_result"
    }
   ],
   "source": [
    "parameters = [{\n",
    "    \"max_iter\": [100,200,300],\n",
    "    \"loss\": [\"hinge\",\"log\",\"squared_hinge\",\"perceptron\"],\n",
    "    \"penalty\": [\"elasticnet\", \"l1\", \"l2\"],\n",
    "    \"alpha\": [0.0001, 0.001, 0.01, 0.1], \n",
    "    \"learning_rate\": ['constant', 'optimal', 'invscaling', 'adaptive'],\n",
    "    \"class_weight\": [{1:0.5, 0:0.5}, {1:0.4, 0:0.6}, {1:0.6, 0:0.4}, {1:0.7, 0:0.3}],\n",
    "    \"eta0\": [1, 10] \n",
    "             }]\n",
    "sgd = GridSearchCV(SGDClassifier(), parameters, cv=5, n_jobs=-1,scoring='f1', verbose=True)\n",
    "sgd.fit(X_train,y_train)\n"
   ]
  },
  {
   "cell_type": "code",
   "execution_count": 35,
   "id": "d0b0bba9-9d7c-4657-ad56-030c908b18d4",
   "metadata": {},
   "outputs": [
    {
     "name": "stdout",
     "output_type": "stream",
     "text": [
      "{'alpha': 0.001, 'class_weight': {1: 0.7, 0: 0.3}, 'eta0': 10, 'learning_rate': 'adaptive', 'loss': 'perceptron', 'max_iter': 300, 'penalty': 'elasticnet'}\n"
     ]
    }
   ],
   "source": [
    "print(sgd.best_params_)"
   ]
  },
  {
   "cell_type": "code",
   "execution_count": 19,
   "id": "d9d21030-8eef-4be1-ae54-06f534579d4d",
   "metadata": {},
   "outputs": [
    {
     "data": {
      "text/plain": [
       "0.8846666666666667"
      ]
     },
     "execution_count": 19,
     "metadata": {},
     "output_type": "execute_result"
    }
   ],
   "source": [
    "# Stochastic gradient descent with best parameters\n",
    "gs_sgd = SGDClassifier(alpha =0.001, \n",
    "                       class_weight ={1: 0.7, 0: 0.3}, \n",
    "                       eta0 =10, \n",
    "                       learning_rate = 'adaptive', \n",
    "                       loss= 'perceptron', \n",
    "                       max_iter=300, \n",
    "                       penalty= 'elasticnet')\n",
    "gs_sgd.fit(X_train, y_train)\n",
    "gs_sgd.score(X_test,y_test)"
   ]
  },
  {
   "cell_type": "markdown",
   "id": "64fb567d-04fa-4c7c-8973-c6d005af746d",
   "metadata": {},
   "source": [
    "## Random Forest"
   ]
  },
  {
   "cell_type": "code",
   "execution_count": 21,
   "id": "460b2073-3725-4a67-bc04-2f0603e4f1cf",
   "metadata": {},
   "outputs": [
    {
     "name": "stdout",
     "output_type": "stream",
     "text": [
      "Fitting 5 folds for each of 3600 candidates, totalling 18000 fits\n"
     ]
    },
    {
     "name": "stderr",
     "output_type": "stream",
     "text": [
      "[Parallel(n_jobs=-1)]: Using backend LokyBackend with 12 concurrent workers.\n",
      "[Parallel(n_jobs=-1)]: Done  26 tasks      | elapsed:    7.0s\n",
      "[Parallel(n_jobs=-1)]: Done 176 tasks      | elapsed:   47.5s\n",
      "[Parallel(n_jobs=-1)]: Done 426 tasks      | elapsed:  2.1min\n",
      "[Parallel(n_jobs=-1)]: Done 776 tasks      | elapsed:  3.7min\n",
      "[Parallel(n_jobs=-1)]: Done 1226 tasks      | elapsed:  6.0min\n",
      "[Parallel(n_jobs=-1)]: Done 1776 tasks      | elapsed:  9.1min\n",
      "[Parallel(n_jobs=-1)]: Done 2426 tasks      | elapsed: 13.1min\n",
      "[Parallel(n_jobs=-1)]: Done 3176 tasks      | elapsed: 17.5min\n",
      "[Parallel(n_jobs=-1)]: Done 4026 tasks      | elapsed: 23.2min\n",
      "[Parallel(n_jobs=-1)]: Done 4976 tasks      | elapsed: 28.4min\n",
      "[Parallel(n_jobs=-1)]: Done 6026 tasks      | elapsed: 34.0min\n",
      "[Parallel(n_jobs=-1)]: Done 7176 tasks      | elapsed: 41.6min\n",
      "[Parallel(n_jobs=-1)]: Done 8426 tasks      | elapsed: 49.7min\n",
      "[Parallel(n_jobs=-1)]: Done 9776 tasks      | elapsed: 57.3min\n",
      "[Parallel(n_jobs=-1)]: Done 11226 tasks      | elapsed: 66.1min\n",
      "[Parallel(n_jobs=-1)]: Done 12776 tasks      | elapsed: 77.0min\n",
      "[Parallel(n_jobs=-1)]: Done 14426 tasks      | elapsed: 86.8min\n",
      "[Parallel(n_jobs=-1)]: Done 16176 tasks      | elapsed: 98.8min\n",
      "[Parallel(n_jobs=-1)]: Done 18000 out of 18000 | elapsed: 117.3min finished\n"
     ]
    },
    {
     "data": {
      "text/plain": [
       "GridSearchCV(cv=5, estimator=RandomForestClassifier(), n_jobs=-1,\n",
       "             param_grid=[{'bootstrap': [True, False],\n",
       "                          'criterion': ['gini', 'entropy'],\n",
       "                          'max_depth': [5, 50, 100],\n",
       "                          'max_features': ['auto', 'sqrt'],\n",
       "                          'min_samples_leaf': [1, 5, 10, 15, 20],\n",
       "                          'min_samples_split': [5, 10, 15, 20, 25, 30],\n",
       "                          'n_estimators': [200, 400, 600, 800, 1000]}],\n",
       "             scoring='f1', verbose=True)"
      ]
     },
     "execution_count": 21,
     "metadata": {},
     "output_type": "execute_result"
    }
   ],
   "source": [
    "parameters = [{\n",
    "    \"criterion\": [\"gini\",  \"entropy\"],\n",
    "    \"n_estimators\": [200,400,600,800,1000],\n",
    "    \"max_features\": ['auto', 'sqrt'],\n",
    "    \"max_depth\": [5, 50, 100],\n",
    "    \"min_samples_split\": [5,10,15,20,25,30], \n",
    "    \"min_samples_leaf\": [1,5,10,15,20],\n",
    "    \"bootstrap\": [True, False]\n",
    "             }]\n",
    "\n",
    "rf = GridSearchCV(RandomForestClassifier(), \n",
    "                  parameters, \n",
    "                  cv=5, \n",
    "                  n_jobs=-1,\n",
    "                  scoring='f1', \n",
    "                  verbose=True)\n",
    "\n",
    "rf.fit(X_train,y_train)"
   ]
  },
  {
   "cell_type": "code",
   "execution_count": 40,
   "id": "660df729-d818-47f3-b3e6-f37ae7b88c56",
   "metadata": {},
   "outputs": [
    {
     "name": "stdout",
     "output_type": "stream",
     "text": [
      "{'bootstrap': False, 'criterion': 'entropy', 'max_depth': 100, 'max_features': 'sqrt', 'min_samples_leaf': 1, 'min_samples_split': 25, 'n_estimators': 800}\n"
     ]
    }
   ],
   "source": [
    "print(rf.best_params_)"
   ]
  },
  {
   "cell_type": "code",
   "execution_count": 20,
   "id": "5112c43e-58cf-4423-976b-ae824ed47469",
   "metadata": {},
   "outputs": [
    {
     "data": {
      "text/plain": [
       "0.9"
      ]
     },
     "execution_count": 20,
     "metadata": {},
     "output_type": "execute_result"
    }
   ],
   "source": [
    "# Random forest with best parameters\n",
    "gs_rf = RandomForestClassifier(bootstrap=False,\n",
    "                               criterion='entropy',\n",
    "                               max_depth= 100, \n",
    "                               max_features='sqrt', \n",
    "                               min_samples_leaf=1, \n",
    "                               min_samples_split=25, \n",
    "                               n_estimators=800)\n",
    "gs_rf.fit(X_train, y_train)\n",
    "gs_rf.score(X_test,y_test)"
   ]
  },
  {
   "cell_type": "markdown",
   "id": "0e0ec3f7-0273-4663-bde2-af133d5c471b",
   "metadata": {},
   "source": [
    "## Decision Tree"
   ]
  },
  {
   "cell_type": "code",
   "execution_count": 24,
   "id": "85da7070-7546-4f9c-86ba-60ef9a6f4a77",
   "metadata": {
    "scrolled": true
   },
   "outputs": [
    {
     "name": "stdout",
     "output_type": "stream",
     "text": [
      "Fitting 5 folds for each of 648 candidates, totalling 3240 fits\n"
     ]
    },
    {
     "name": "stderr",
     "output_type": "stream",
     "text": [
      "[Parallel(n_jobs=-1)]: Using backend LokyBackend with 12 concurrent workers.\n",
      "[Parallel(n_jobs=-1)]: Done  28 tasks      | elapsed:    0.2s\n",
      "[Parallel(n_jobs=-1)]: Done 1640 tasks      | elapsed:    3.2s\n",
      "[Parallel(n_jobs=-1)]: Done 3240 out of 3240 | elapsed:    6.2s finished\n"
     ]
    },
    {
     "data": {
      "text/plain": [
       "GridSearchCV(cv=5, estimator=DecisionTreeClassifier(), n_jobs=-1,\n",
       "             param_grid=[{'criterion': ['gini', 'entropy'],\n",
       "                          'max_depth': range(1, 10),\n",
       "                          'min_samples_leaf': [1, 2, 5, 10],\n",
       "                          'min_samples_split': range(1, 10)}],\n",
       "             scoring='f1', verbose=True)"
      ]
     },
     "execution_count": 24,
     "metadata": {},
     "output_type": "execute_result"
    }
   ],
   "source": [
    "parameters = [{\n",
    "    \"criterion\": ['gini','entropy'],\n",
    "    \"max_depth\": range(1,10),\n",
    "    \"min_samples_split\": range(1,10), \n",
    "    \"min_samples_leaf\": [1,2,5,10],\n",
    "             }]\n",
    "\n",
    "dt = GridSearchCV(DecisionTreeClassifier(),\n",
    "                  parameters, \n",
    "                  cv=5, n_jobs=-1,\n",
    "                  scoring='f1', \n",
    "                  verbose=True)\n",
    "\n",
    "dt.fit(X_train,y_train)"
   ]
  },
  {
   "cell_type": "code",
   "execution_count": 43,
   "id": "9b342861-fbf3-4e56-83d6-4ccddb7c0b55",
   "metadata": {},
   "outputs": [
    {
     "name": "stdout",
     "output_type": "stream",
     "text": [
      "{'criterion': 'gini', 'max_depth': 1, 'min_samples_leaf': 1, 'min_samples_split': 2}\n"
     ]
    }
   ],
   "source": [
    "print(dt.best_params_)"
   ]
  },
  {
   "cell_type": "code",
   "execution_count": 21,
   "id": "c013b1ed-bd18-4516-80e3-0e2f213ed1bd",
   "metadata": {},
   "outputs": [
    {
     "data": {
      "text/plain": [
       "0.8913333333333333"
      ]
     },
     "execution_count": 21,
     "metadata": {},
     "output_type": "execute_result"
    }
   ],
   "source": [
    "# Decision Tree with best parameters\n",
    "gs_dt = DecisionTreeClassifier(criterion='gini', \n",
    "                               max_depth= 6, \n",
    "                               min_samples_leaf=1, \n",
    "                               min_samples_split=2,)\n",
    "gs_dt.fit(X_train, y_train)\n",
    "gs_dt.score(X_test,y_test)"
   ]
  }
 ],
 "metadata": {
  "environment": {
   "kernel": "python3",
   "name": "common-cpu.m108",
   "type": "gcloud",
   "uri": "gcr.io/deeplearning-platform-release/base-cpu:m108"
  },
  "kernelspec": {
   "display_name": "Python 3",
   "language": "python",
   "name": "python3"
  },
  "language_info": {
   "codemirror_mode": {
    "name": "ipython",
    "version": 3
   },
   "file_extension": ".py",
   "mimetype": "text/x-python",
   "name": "python",
   "nbconvert_exporter": "python",
   "pygments_lexer": "ipython3",
   "version": "3.10.10"
  }
 },
 "nbformat": 4,
 "nbformat_minor": 5
}
