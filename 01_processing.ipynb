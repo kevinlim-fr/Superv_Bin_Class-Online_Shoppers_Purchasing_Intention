{
 "cells": [
  {
   "cell_type": "markdown",
   "id": "021d2207-2b44-4691-b064-af8f349afb2e",
   "metadata": {},
   "source": [
    "# <b> Notebook 1 : Data Import & Processing\n",
    "This notebooks is used to import the data and process it"
   ]
  },
  {
   "cell_type": "code",
   "execution_count": 18,
   "id": "5d0a4cf0-418f-4e78-87bc-1359bd009cd2",
   "metadata": {
    "tags": []
   },
   "outputs": [],
   "source": [
    "%run ../klicp/klicp_00_import_and_functions.ipynb\n",
    "%run ../klicp/klicp_01_data_import_tools.ipynb"
   ]
  },
  {
   "cell_type": "code",
   "execution_count": 19,
   "id": "14bc3491-ba6e-4f2d-aee8-902b62750692",
   "metadata": {
    "tags": []
   },
   "outputs": [],
   "source": [
    "# Importing the dataset (Link - https://archive.ics.uci.edu/ml/datasets/Online+Shoppers+Purchasing+Intention+Dataset)\n",
    "data = pd.read_csv(\"online_shoppers_intention.csv\", header = 0)"
   ]
  },
  {
   "cell_type": "markdown",
   "id": "7b9b4994-fde2-4080-b507-4bf2a5eed696",
   "metadata": {},
   "source": [
    "## <b> STEP 1 : Data Cleaning (if necessary)"
   ]
  },
  {
   "cell_type": "markdown",
   "id": "0da93244-8ace-477d-8473-1bb14fd9d077",
   "metadata": {},
   "source": [
    "#### We can have a quick look at the data type in each column of our dataset to make sure if there are any missing values. "
   ]
  },
  {
   "cell_type": "code",
   "execution_count": 14,
   "id": "e197a4d1-d065-45eb-b23d-9be52ad22ac6",
   "metadata": {
    "tags": []
   },
   "outputs": [
    {
     "data": {
      "text/plain": [
       "Administrative               int64\n",
       "Administrative_Duration    float64\n",
       "Informational                int64\n",
       "Informational_Duration     float64\n",
       "ProductRelated               int64\n",
       "ProductRelated_Duration    float64\n",
       "BounceRates                float64\n",
       "ExitRates                  float64\n",
       "PageValues                 float64\n",
       "SpecialDay                 float64\n",
       "Month                       object\n",
       "OperatingSystems             int64\n",
       "Browser                      int64\n",
       "Region                       int64\n",
       "TrafficType                  int64\n",
       "VisitorType                 object\n",
       "Weekend                       bool\n",
       "Revenue                       bool\n",
       "dtype: object"
      ]
     },
     "execution_count": 14,
     "metadata": {},
     "output_type": "execute_result"
    }
   ],
   "source": [
    "data.dtypes"
   ]
  },
  {
   "cell_type": "markdown",
   "id": "01a28672-e27e-4130-b9a3-b1c3b6c9fd57",
   "metadata": {},
   "source": [
    "#### Month and VisitorType are object type, we can quickly check if there is any missing values by counting the values."
   ]
  },
  {
   "cell_type": "code",
   "execution_count": 15,
   "id": "fa51900b-62e4-4f7c-b5c8-46a3cde31228",
   "metadata": {
    "tags": []
   },
   "outputs": [
    {
     "data": {
      "text/plain": [
       "May     3364\n",
       "Nov     2998\n",
       "Mar     1907\n",
       "Dec     1727\n",
       "Oct      549\n",
       "Sep      448\n",
       "Aug      433\n",
       "Jul      432\n",
       "June     288\n",
       "Feb      184\n",
       "Name: Month, dtype: int64"
      ]
     },
     "execution_count": 15,
     "metadata": {},
     "output_type": "execute_result"
    }
   ],
   "source": [
    "data['Month'].value_counts()"
   ]
  },
  {
   "cell_type": "code",
   "execution_count": 16,
   "id": "b029c063-7dd8-443e-abc8-18ce7526ce6a",
   "metadata": {
    "tags": []
   },
   "outputs": [
    {
     "data": {
      "text/plain": [
       "Returning_Visitor    10551\n",
       "New_Visitor           1694\n",
       "Other                   85\n",
       "Name: VisitorType, dtype: int64"
      ]
     },
     "execution_count": 16,
     "metadata": {},
     "output_type": "execute_result"
    }
   ],
   "source": [
    "data['VisitorType'].value_counts()"
   ]
  },
  {
   "cell_type": "markdown",
   "id": "e30baefd-c01b-4973-9d21-ca7ee95ac67e",
   "metadata": {},
   "source": [
    "## <b> STEP 2 : Data preprocessing"
   ]
  },
  {
   "cell_type": "markdown",
   "id": "40bcb6b9-606d-4370-8161-e0a6b7bc0a28",
   "metadata": {},
   "source": [
    "#### As we have categorical features in our dataset, we need to encode them before so we can use them in our analysis later. "
   ]
  },
  {
   "cell_type": "code",
   "execution_count": 17,
   "id": "d386532e-b767-4a4c-a6c8-da6b6b8dfec7",
   "metadata": {
    "tags": []
   },
   "outputs": [],
   "source": [
    "column_trans = make_column_transformer((OneHotEncoder(),['Month','OperatingSystems','Browser','VisitorType','Weekend']),remainder='passthrough')\n",
    "\n",
    "# Scaler\n",
    "scalar = MinMaxScaler()\n",
    "\n",
    "# Purchased\n",
    "dataset_p = data[data.Revenue==True]\n",
    "# Not Purchased\n",
    "dataset_np = data[data.Revenue==False]\n",
    "\n",
    "# Downsampled Dataset\n",
    "dataset_p_down = resample(dataset_p,replace=True,n_samples=5000)\n",
    "dataset_np_down = resample(dataset_np,replace=False,n_samples=5000)\n",
    "dataset = pd.concat([dataset_p_down,dataset_np_down])\n",
    "\n",
    "# Identifying the class label\n",
    "X = dataset.drop(columns=['Revenue'])\n",
    "y = dataset['Revenue']\n",
    "\n",
    "# Encoding categorical features\n",
    "column_trans.fit(X)\n",
    "X = column_trans.transform(X)\n",
    "\n",
    "# Creating training and testing set\n",
    "X_train, X_test, y_train, y_test = train_test_split(X,y,test_size=0.25,random_state=0)\n",
    "\n",
    "# Center and normalize the data\n",
    "scalar.fit(X)\n",
    "X_train = scalar.transform(X_train)\n",
    "X_test = scalar.transform(X_test)"
   ]
  }
 ],
 "metadata": {
  "kernelspec": {
   "display_name": "Python 3 (ipykernel)",
   "language": "python",
   "name": "python3"
  },
  "language_info": {
   "codemirror_mode": {
    "name": "ipython",
    "version": 3
   },
   "file_extension": ".py",
   "mimetype": "text/x-python",
   "name": "python",
   "nbconvert_exporter": "python",
   "pygments_lexer": "ipython3",
   "version": "3.9.16"
  }
 },
 "nbformat": 4,
 "nbformat_minor": 5
}
