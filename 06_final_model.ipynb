{
 "cells": [
  {
   "cell_type": "markdown",
   "id": "1feb3c84-6ff9-43f2-a521-fa6b58be84f8",
   "metadata": {},
   "source": [
    "# <b> Notebook 5 : Final model selection"
   ]
  },
  {
   "cell_type": "code",
   "execution_count": 12,
   "id": "f9134231-279f-49c9-9bbd-d018b35a7b8e",
   "metadata": {},
   "outputs": [],
   "source": [
    "%run ../klicp/klicp_00_import_and_functions.ipynb\n",
    "%run ../klicp/klicp_01_data_import_tools.ipynb\n",
    "%run 01_processing.ipynb"
   ]
  },
  {
   "cell_type": "code",
   "execution_count": 15,
   "id": "ecc44306-647f-4faa-baf1-89fd266e4a27",
   "metadata": {
    "tags": []
   },
   "outputs": [],
   "source": [
    "model = XGBClassifier()\n",
    "algo = str(model).split('(')[0]\n",
    "\n",
    "# Loading the pickled dictionary\n",
    "with open(\"best_param_%s.pickle\"%(algo), \"rb\") as f:\n",
    "    best_param = pickle.load(f)\n",
    "    \n",
    "model = XGBClassifier(**params)"
   ]
  },
  {
   "cell_type": "code",
   "execution_count": 18,
   "id": "9c586dd0-2b27-40fa-baa1-edecb75e08ba",
   "metadata": {
    "tags": []
   },
   "outputs": [
    {
     "data": {
      "text/plain": [
       "0.6712729205421207"
      ]
     },
     "execution_count": 18,
     "metadata": {},
     "output_type": "execute_result"
    }
   ],
   "source": [
    "model.fit(X_train,y_train)\n",
    "y_pred = model.predict(X_test)\n",
    "f1_score(y_test,y_pred)"
   ]
  },
  {
   "cell_type": "markdown",
   "id": "45bb7071-af87-45a8-8d30-2ebf2bc5239e",
   "metadata": {
    "tags": []
   },
   "source": [
    "## Ensemble Model Building"
   ]
  },
  {
   "cell_type": "markdown",
   "id": "c53cda94-e1bf-4b10-9971-ff2eedda2932",
   "metadata": {},
   "source": [
    "#### We will now compare our four model's performance."
   ]
  },
  {
   "cell_type": "code",
   "execution_count": 2,
   "id": "ace3c395-52c1-4cc3-8f97-e4348c3cd0ec",
   "metadata": {
    "tags": []
   },
   "outputs": [
    {
     "ename": "NameError",
     "evalue": "name 'gs_gbm' is not defined",
     "output_type": "error",
     "traceback": [
      "\u001b[1;31m---------------------------------------------------------------------------\u001b[0m",
      "\u001b[1;31mNameError\u001b[0m                                 Traceback (most recent call last)",
      "Cell \u001b[1;32mIn[2], line 2\u001b[0m\n\u001b[0;32m      1\u001b[0m classifiers \u001b[38;5;241m=\u001b[39m {\n\u001b[1;32m----> 2\u001b[0m     \u001b[38;5;124m\"\u001b[39m\u001b[38;5;124mGradient Boosting\u001b[39m\u001b[38;5;124m\"\u001b[39m: \u001b[43mgs_gbm\u001b[49m,\n\u001b[0;32m      3\u001b[0m     \u001b[38;5;124m\"\u001b[39m\u001b[38;5;124mStochastic Gradient Descent\u001b[39m\u001b[38;5;124m\"\u001b[39m: gs_sgd,\n\u001b[0;32m      4\u001b[0m     \u001b[38;5;124m\"\u001b[39m\u001b[38;5;124mRandom Forest\u001b[39m\u001b[38;5;124m\"\u001b[39m: gs_rf,\n\u001b[0;32m      5\u001b[0m     \u001b[38;5;124m\"\u001b[39m\u001b[38;5;124mDecision Tree\u001b[39m\u001b[38;5;124m\"\u001b[39m: gs_dt\n\u001b[0;32m      6\u001b[0m }\n\u001b[0;32m      8\u001b[0m f, axes \u001b[38;5;241m=\u001b[39m plt\u001b[38;5;241m.\u001b[39msubplots(\u001b[38;5;241m1\u001b[39m, \u001b[38;5;241m4\u001b[39m, figsize\u001b[38;5;241m=\u001b[39m(\u001b[38;5;241m20\u001b[39m, \u001b[38;5;241m5\u001b[39m), sharey\u001b[38;5;241m=\u001b[39m\u001b[38;5;124m'\u001b[39m\u001b[38;5;124mrow\u001b[39m\u001b[38;5;124m'\u001b[39m)\n\u001b[0;32m     10\u001b[0m \u001b[38;5;28;01mfor\u001b[39;00m i, (key, classifier) \u001b[38;5;129;01min\u001b[39;00m \u001b[38;5;28menumerate\u001b[39m(classifiers\u001b[38;5;241m.\u001b[39mitems()):\n",
      "\u001b[1;31mNameError\u001b[0m: name 'gs_gbm' is not defined"
     ]
    }
   ],
   "source": [
    "classifiers = {\n",
    "    \"Gradient Boosting\": gs_gbm,\n",
    "    \"Stochastic Gradient Descent\": gs_sgd,\n",
    "    \"Random Forest\": gs_rf,\n",
    "    \"Decision Tree\": gs_dt\n",
    "}\n",
    "\n",
    "f, axes = plt.subplots(1, 4, figsize=(20, 5), sharey='row')\n",
    "\n",
    "for i, (key, classifier) in enumerate(classifiers.items()):\n",
    "    y_pred = classifier.fit(X_train, y_train).predict(X_test)\n",
    "    cf_matrix = confusion_matrix(y_test, y_pred)\n",
    "    print(key, \" \\n Accuracy:\",accuracy_score(y_test,y_pred),\"\\n F-score\",f1_score(y_test,y_pred))\n",
    "    disp = ConfusionMatrixDisplay(cf_matrix,\n",
    "                                  display_labels=[\"Not Purchased\",\"Purchased\"])\n",
    "    disp.plot(ax=axes[i], xticks_rotation=45)\n",
    "    disp.ax_.set_title(key)\n",
    "    disp.im_.colorbar.remove()\n",
    "    disp.ax_.set_xlabel('')\n",
    "    if i!=0:\n",
    "        disp.ax_.set_ylabel('')\n",
    "\n",
    "f.text(0.4, 0.1, 'Predicted label', ha='left')\n",
    "plt.subplots_adjust(wspace=0.40, hspace=0.1)\n",
    "\n",
    "\n",
    "f.colorbar(disp.im_, ax=axes)\n",
    "plt.show()"
   ]
  },
  {
   "cell_type": "markdown",
   "id": "10b884bc-8219-425a-8582-54096c13909f",
   "metadata": {},
   "source": [
    "#### Now we will make a model out of our three best performing ones."
   ]
  },
  {
   "cell_type": "code",
   "execution_count": 106,
   "id": "0e626c14-60a5-47ae-9904-f22c156ac89c",
   "metadata": {},
   "outputs": [
    {
     "name": "stdout",
     "output_type": "stream",
     "text": [
      " Accuracy :  0.8926666666666667 \n",
      " F-score 0.6567164179104478\n"
     ]
    }
   ],
   "source": [
    "# Combination of the three best models\n",
    "estimators=[('Random Forest',gs_rf),('Decision Tree',gs_dt),('Stochastic Gradient Descent',gs_sgd)]\n",
    "ensemble = VotingClassifier(estimators, voting='hard')\n",
    "ensemble.fit(X_train, y_train)\n",
    "y_pred = ensemble.fit(X_train, y_train).predict(X_test)\n",
    "print(\" Accuracy : \",accuracy_score(y_test,y_pred),\"\\n F-score\",f1_score(y_test,y_pred))"
   ]
  }
 ],
 "metadata": {
  "kernelspec": {
   "display_name": "Python 3 (ipykernel)",
   "language": "python",
   "name": "python3"
  },
  "language_info": {
   "codemirror_mode": {
    "name": "ipython",
    "version": 3
   },
   "file_extension": ".py",
   "mimetype": "text/x-python",
   "name": "python",
   "nbconvert_exporter": "python",
   "pygments_lexer": "ipython3",
   "version": "3.9.16"
  }
 },
 "nbformat": 4,
 "nbformat_minor": 5
}
